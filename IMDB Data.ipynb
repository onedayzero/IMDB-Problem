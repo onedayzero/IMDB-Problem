{
 "cells": [
  {
   "cell_type": "markdown",
   "id": "bfc04a72",
   "metadata": {},
   "source": [
    "# Import"
   ]
  },
  {
   "cell_type": "code",
   "execution_count": 1,
   "id": "4e2b8dd4",
   "metadata": {},
   "outputs": [],
   "source": [
    "import pandas as pd\n",
    "import numpy as np"
   ]
  },
  {
   "cell_type": "markdown",
   "id": "3058a92f",
   "metadata": {},
   "source": [
    "# Load and Read Data"
   ]
  },
  {
   "cell_type": "code",
   "execution_count": 2,
   "id": "edaaf2be",
   "metadata": {},
   "outputs": [],
   "source": [
    "# load the data from IMDB\n",
    "basics_df = pd.read_csv('https://datasets.imdbws.com/title.basics.tsv.gz', sep='\\t', low_memory=False)\n",
    "akas_df = pd.read_csv('https://datasets.imdbws.com/title.akas.tsv.gz', sep='\\t', low_memory=False)\n",
    "ratings_df = pd.read_csv('https://datasets.imdbws.com/title.ratings.tsv.gz', sep='\\t', low_memory=False)"
   ]
  },
  {
   "cell_type": "code",
   "execution_count": 3,
   "id": "42a986a0",
   "metadata": {},
   "outputs": [
    {
     "name": "stdout",
     "output_type": "stream",
     "text": [
      "The shape of basics_df is (9187629, 9).\n",
      "The shape of akas_df is (33028351, 8).\n",
      "The shape of ratings_df is (1257564, 3).\n"
     ]
    }
   ],
   "source": [
    "# View the shapes of the dfs\n",
    "print(f'The shape of basics_df is {basics_df.shape}.')\n",
    "print(f'The shape of akas_df is {akas_df.shape}.')\n",
    "print(f'The shape of ratings_df is {ratings_df.shape}.')"
   ]
  },
  {
   "cell_type": "markdown",
   "id": "7124ada7",
   "metadata": {},
   "source": [
    "# Filter and Cleaning basics_df"
   ]
  },
  {
   "cell_type": "markdown",
   "id": "99b97843",
   "metadata": {},
   "source": [
    "- [x] Replace \"\\N\" with np.nan\n",
    "- [x] Eliminate movies that are null for runtimeMinutes\n",
    "- [x] Eliminate movies that are null for genre\n",
    "- [x] keep only titleType==Movie\n",
    "- [x] keep startYear 2000-2022\n",
    "- [x] Eliminate movies that include \"Documentary\" in genre"
   ]
  },
  {
   "cell_type": "code",
   "execution_count": 4,
   "id": "5eb35a51",
   "metadata": {},
   "outputs": [],
   "source": [
    "# Replace all'\\N' with np.nan\n",
    "basics_df = basics_df.replace({'\\\\N':np.nan})"
   ]
  },
  {
   "cell_type": "code",
   "execution_count": 5,
   "id": "2706c545",
   "metadata": {},
   "outputs": [
    {
     "data": {
      "text/plain": [
       "6722451"
      ]
     },
     "execution_count": 5,
     "metadata": {},
     "output_type": "execute_result"
    }
   ],
   "source": [
    "# Count the amount of missing values in runtimeMinutes\n",
    "basics_df['runtimeMinutes'].isna().sum()"
   ]
  },
  {
   "cell_type": "code",
   "execution_count": 6,
   "id": "744a21e6",
   "metadata": {},
   "outputs": [
    {
     "data": {
      "text/plain": [
       "0"
      ]
     },
     "execution_count": 6,
     "metadata": {},
     "output_type": "execute_result"
    }
   ],
   "source": [
    "# drop rows which have a missing value for runtimeMinutes\n",
    "basics_df.dropna(subset=['runtimeMinutes'], inplace=True)\n",
    "\n",
    "# Count the amount of missing values in runtimeMinutes\n",
    "basics_df['runtimeMinutes'].isna().sum()"
   ]
  },
  {
   "cell_type": "code",
   "execution_count": 7,
   "id": "5d953908",
   "metadata": {},
   "outputs": [
    {
     "data": {
      "text/plain": [
       "67352"
      ]
     },
     "execution_count": 7,
     "metadata": {},
     "output_type": "execute_result"
    }
   ],
   "source": [
    "# Count the amount of missing values in genres\n",
    "basics_df['genres'].isna().sum()"
   ]
  },
  {
   "cell_type": "code",
   "execution_count": 8,
   "id": "606f88cf",
   "metadata": {},
   "outputs": [
    {
     "data": {
      "text/plain": [
       "0"
      ]
     },
     "execution_count": 8,
     "metadata": {},
     "output_type": "execute_result"
    }
   ],
   "source": [
    "# drop rows which have a missing value for genres\n",
    "basics_df.dropna(subset=['genres'], inplace=True)\n",
    "\n",
    "# Count the amount of missing values in genres\n",
    "basics_df['genres'].isna().sum()"
   ]
  },
  {
   "cell_type": "code",
   "execution_count": 9,
   "id": "56852b8b",
   "metadata": {},
   "outputs": [
    {
     "data": {
      "text/plain": [
       "tvEpisode       1064068\n",
       "short            574453\n",
       "movie            367090\n",
       "video            175101\n",
       "tvMovie           88312\n",
       "tvSeries          86579\n",
       "tvSpecial         16466\n",
       "tvMiniSeries      16079\n",
       "tvShort            9380\n",
       "videoGame           298\n",
       "Name: titleType, dtype: int64"
      ]
     },
     "execution_count": 9,
     "metadata": {},
     "output_type": "execute_result"
    }
   ],
   "source": [
    "# Exploring 'titleType' column value counts\n",
    "basics_df['titleType'].value_counts()"
   ]
  },
  {
   "cell_type": "code",
   "execution_count": 10,
   "id": "436b755c",
   "metadata": {},
   "outputs": [],
   "source": [
    "# Dropping all titles that are not 'movie'\n",
    "basics_df = basics_df[basics_df['titleType'] == 'movie']"
   ]
  },
  {
   "cell_type": "code",
   "execution_count": 11,
   "id": "979b6433",
   "metadata": {},
   "outputs": [
    {
     "data": {
      "text/plain": [
       "movie    367090\n",
       "Name: titleType, dtype: int64"
      ]
     },
     "execution_count": 11,
     "metadata": {},
     "output_type": "execute_result"
    }
   ],
   "source": [
    "# Reviewing 'titleType' column value counts\n",
    "basics_df['titleType'].value_counts()"
   ]
  },
  {
   "cell_type": "code",
   "execution_count": 12,
   "id": "e8f954a0",
   "metadata": {},
   "outputs": [
    {
     "name": "stdout",
     "output_type": "stream",
     "text": [
      "<class 'pandas.core.frame.DataFrame'>\n",
      "Int64Index: 367090 entries, 8 to 9187579\n",
      "Data columns (total 9 columns):\n",
      " #   Column          Non-Null Count   Dtype \n",
      "---  ------          --------------   ----- \n",
      " 0   tconst          367090 non-null  object\n",
      " 1   titleType       367090 non-null  object\n",
      " 2   primaryTitle    367090 non-null  object\n",
      " 3   originalTitle   367090 non-null  object\n",
      " 4   isAdult         367090 non-null  object\n",
      " 5   startYear       361273 non-null  object\n",
      " 6   endYear         0 non-null       object\n",
      " 7   runtimeMinutes  367090 non-null  object\n",
      " 8   genres          367090 non-null  object\n",
      "dtypes: object(9)\n",
      "memory usage: 28.0+ MB\n"
     ]
    }
   ],
   "source": [
    "# Review column info on startYear\n",
    "basics_df.info()\n",
    "\n",
    "# Going to convert startYear to 'int' from 'object'"
   ]
  },
  {
   "cell_type": "code",
   "execution_count": 13,
   "id": "f5eabd63",
   "metadata": {},
   "outputs": [],
   "source": [
    "# filling in missing values as '0' and changing column type as 'int'\n",
    "basics_df['startYear'] = basics_df['startYear'].fillna(0).astype(int)"
   ]
  },
  {
   "cell_type": "code",
   "execution_count": 14,
   "id": "9d047195",
   "metadata": {},
   "outputs": [],
   "source": [
    "# Keeming all movies made on or after 2000\n",
    "basics_df = basics_df[(basics_df['startYear'] >= 2000) & (basics_df['startYear'] < 2022)]"
   ]
  },
  {
   "cell_type": "code",
   "execution_count": 15,
   "id": "2746896f",
   "metadata": {},
   "outputs": [
    {
     "name": "stdout",
     "output_type": "stream",
     "text": [
      "<class 'pandas.core.frame.DataFrame'>\n",
      "Int64Index: 207454 entries, 13079 to 9187579\n",
      "Data columns (total 9 columns):\n",
      " #   Column          Non-Null Count   Dtype \n",
      "---  ------          --------------   ----- \n",
      " 0   tconst          207454 non-null  object\n",
      " 1   titleType       207454 non-null  object\n",
      " 2   primaryTitle    207454 non-null  object\n",
      " 3   originalTitle   207454 non-null  object\n",
      " 4   isAdult         207454 non-null  object\n",
      " 5   startYear       207454 non-null  int32 \n",
      " 6   endYear         0 non-null       object\n",
      " 7   runtimeMinutes  207454 non-null  object\n",
      " 8   genres          207454 non-null  object\n",
      "dtypes: int32(1), object(8)\n",
      "memory usage: 15.0+ MB\n"
     ]
    }
   ],
   "source": [
    "# Reviewing column info for 'startYear'\n",
    "basics_df.info()"
   ]
  },
  {
   "cell_type": "code",
   "execution_count": 16,
   "id": "81c21282",
   "metadata": {},
   "outputs": [
    {
     "data": {
      "text/plain": [
       "count    207454.000000\n",
       "mean       2012.817246\n",
       "std           5.602001\n",
       "min        2000.000000\n",
       "25%        2009.000000\n",
       "50%        2014.000000\n",
       "75%        2017.000000\n",
       "max        2021.000000\n",
       "Name: startYear, dtype: float64"
      ]
     },
     "execution_count": 16,
     "metadata": {},
     "output_type": "execute_result"
    }
   ],
   "source": [
    "basics_df['startYear'].describe()"
   ]
  },
  {
   "cell_type": "markdown",
   "id": "0ed5f5eb",
   "metadata": {},
   "source": [
    "Below are references for finding a word in a column\n",
    "\n",
    "[reference 1](https://stackoverflow.com/questions/62281375/how-to-find-words-in-pandas-or-the-combination-of-two-words1)\n",
    "\n",
    "[reference 2](https://towardsdatascience.com/check-for-a-substring-in-a-pandas-dataframe-column-4b949f64852#:~:text=Using%20%E2%80%9Ccontains%E2%80%9D%20to%20Find%20a%20Substring%20in%20a%20Pandas%20DataFrame&text=The%20contains%20method%20returns%20boolean,contains(%22substring%22)%20.)"
   ]
  },
  {
   "cell_type": "code",
   "execution_count": 17,
   "id": "c1e5c6ad",
   "metadata": {},
   "outputs": [
    {
     "data": {
      "text/html": [
       "<div>\n",
       "<style scoped>\n",
       "    .dataframe tbody tr th:only-of-type {\n",
       "        vertical-align: middle;\n",
       "    }\n",
       "\n",
       "    .dataframe tbody tr th {\n",
       "        vertical-align: top;\n",
       "    }\n",
       "\n",
       "    .dataframe thead th {\n",
       "        text-align: right;\n",
       "    }\n",
       "</style>\n",
       "<table border=\"1\" class=\"dataframe\">\n",
       "  <thead>\n",
       "    <tr style=\"text-align: right;\">\n",
       "      <th></th>\n",
       "      <th>tconst</th>\n",
       "      <th>titleType</th>\n",
       "      <th>primaryTitle</th>\n",
       "      <th>originalTitle</th>\n",
       "      <th>isAdult</th>\n",
       "      <th>startYear</th>\n",
       "      <th>endYear</th>\n",
       "      <th>runtimeMinutes</th>\n",
       "      <th>genres</th>\n",
       "    </tr>\n",
       "  </thead>\n",
       "  <tbody>\n",
       "    <tr>\n",
       "      <th>13079</th>\n",
       "      <td>tt0013274</td>\n",
       "      <td>movie</td>\n",
       "      <td>Istoriya grazhdanskoy voyny</td>\n",
       "      <td>Istoriya grazhdanskoy voyny</td>\n",
       "      <td>0</td>\n",
       "      <td>2021</td>\n",
       "      <td>NaN</td>\n",
       "      <td>133</td>\n",
       "      <td>Documentary</td>\n",
       "    </tr>\n",
       "    <tr>\n",
       "      <th>66305</th>\n",
       "      <td>tt0067683</td>\n",
       "      <td>movie</td>\n",
       "      <td>Workers '71: Nothing About Us Without Us</td>\n",
       "      <td>Robotnicy 1971 - Nic o nas bez nas</td>\n",
       "      <td>0</td>\n",
       "      <td>2006</td>\n",
       "      <td>NaN</td>\n",
       "      <td>47</td>\n",
       "      <td>Documentary</td>\n",
       "    </tr>\n",
       "    <tr>\n",
       "      <th>95114</th>\n",
       "      <td>tt0097304</td>\n",
       "      <td>movie</td>\n",
       "      <td>Everything's for You</td>\n",
       "      <td>Everything's for You</td>\n",
       "      <td>0</td>\n",
       "      <td>2009</td>\n",
       "      <td>NaN</td>\n",
       "      <td>58</td>\n",
       "      <td>Documentary</td>\n",
       "    </tr>\n",
       "    <tr>\n",
       "      <th>102619</th>\n",
       "      <td>tt0104988</td>\n",
       "      <td>movie</td>\n",
       "      <td>Neues in Wittstock</td>\n",
       "      <td>Neues in Wittstock</td>\n",
       "      <td>0</td>\n",
       "      <td>2021</td>\n",
       "      <td>NaN</td>\n",
       "      <td>100</td>\n",
       "      <td>Documentary</td>\n",
       "    </tr>\n",
       "    <tr>\n",
       "      <th>106678</th>\n",
       "      <td>tt0109173</td>\n",
       "      <td>movie</td>\n",
       "      <td>Auf allen Meeren</td>\n",
       "      <td>Auf allen Meeren</td>\n",
       "      <td>0</td>\n",
       "      <td>2002</td>\n",
       "      <td>NaN</td>\n",
       "      <td>95</td>\n",
       "      <td>Documentary</td>\n",
       "    </tr>\n",
       "    <tr>\n",
       "      <th>...</th>\n",
       "      <td>...</td>\n",
       "      <td>...</td>\n",
       "      <td>...</td>\n",
       "      <td>...</td>\n",
       "      <td>...</td>\n",
       "      <td>...</td>\n",
       "      <td>...</td>\n",
       "      <td>...</td>\n",
       "      <td>...</td>\n",
       "    </tr>\n",
       "    <tr>\n",
       "      <th>9187297</th>\n",
       "      <td>tt9916160</td>\n",
       "      <td>movie</td>\n",
       "      <td>Drømmeland</td>\n",
       "      <td>Drømmeland</td>\n",
       "      <td>0</td>\n",
       "      <td>2019</td>\n",
       "      <td>NaN</td>\n",
       "      <td>72</td>\n",
       "      <td>Documentary</td>\n",
       "    </tr>\n",
       "    <tr>\n",
       "      <th>9187308</th>\n",
       "      <td>tt9916186</td>\n",
       "      <td>movie</td>\n",
       "      <td>Illenau - die Geschichte einer ehemaligen Heil...</td>\n",
       "      <td>Illenau - die Geschichte einer ehemaligen Heil...</td>\n",
       "      <td>0</td>\n",
       "      <td>2017</td>\n",
       "      <td>NaN</td>\n",
       "      <td>84</td>\n",
       "      <td>Documentary</td>\n",
       "    </tr>\n",
       "    <tr>\n",
       "      <th>9187519</th>\n",
       "      <td>tt9916622</td>\n",
       "      <td>movie</td>\n",
       "      <td>Rodolpho Teóphilo - O Legado de um Pioneiro</td>\n",
       "      <td>Rodolpho Teóphilo - O Legado de um Pioneiro</td>\n",
       "      <td>0</td>\n",
       "      <td>2015</td>\n",
       "      <td>NaN</td>\n",
       "      <td>57</td>\n",
       "      <td>Documentary</td>\n",
       "    </tr>\n",
       "    <tr>\n",
       "      <th>9187546</th>\n",
       "      <td>tt9916680</td>\n",
       "      <td>movie</td>\n",
       "      <td>De la ilusión al desconcierto: cine colombiano...</td>\n",
       "      <td>De la ilusión al desconcierto: cine colombiano...</td>\n",
       "      <td>0</td>\n",
       "      <td>2007</td>\n",
       "      <td>NaN</td>\n",
       "      <td>100</td>\n",
       "      <td>Documentary</td>\n",
       "    </tr>\n",
       "    <tr>\n",
       "      <th>9187579</th>\n",
       "      <td>tt9916754</td>\n",
       "      <td>movie</td>\n",
       "      <td>Chico Albuquerque - Revelações</td>\n",
       "      <td>Chico Albuquerque - Revelações</td>\n",
       "      <td>0</td>\n",
       "      <td>2013</td>\n",
       "      <td>NaN</td>\n",
       "      <td>49</td>\n",
       "      <td>Documentary</td>\n",
       "    </tr>\n",
       "  </tbody>\n",
       "</table>\n",
       "<p>70676 rows × 9 columns</p>\n",
       "</div>"
      ],
      "text/plain": [
       "            tconst titleType  \\\n",
       "13079    tt0013274     movie   \n",
       "66305    tt0067683     movie   \n",
       "95114    tt0097304     movie   \n",
       "102619   tt0104988     movie   \n",
       "106678   tt0109173     movie   \n",
       "...            ...       ...   \n",
       "9187297  tt9916160     movie   \n",
       "9187308  tt9916186     movie   \n",
       "9187519  tt9916622     movie   \n",
       "9187546  tt9916680     movie   \n",
       "9187579  tt9916754     movie   \n",
       "\n",
       "                                              primaryTitle  \\\n",
       "13079                          Istoriya grazhdanskoy voyny   \n",
       "66305             Workers '71: Nothing About Us Without Us   \n",
       "95114                                 Everything's for You   \n",
       "102619                                  Neues in Wittstock   \n",
       "106678                                    Auf allen Meeren   \n",
       "...                                                    ...   \n",
       "9187297                                         Drømmeland   \n",
       "9187308  Illenau - die Geschichte einer ehemaligen Heil...   \n",
       "9187519        Rodolpho Teóphilo - O Legado de um Pioneiro   \n",
       "9187546  De la ilusión al desconcierto: cine colombiano...   \n",
       "9187579                     Chico Albuquerque - Revelações   \n",
       "\n",
       "                                             originalTitle isAdult  startYear  \\\n",
       "13079                          Istoriya grazhdanskoy voyny       0       2021   \n",
       "66305                   Robotnicy 1971 - Nic o nas bez nas       0       2006   \n",
       "95114                                 Everything's for You       0       2009   \n",
       "102619                                  Neues in Wittstock       0       2021   \n",
       "106678                                    Auf allen Meeren       0       2002   \n",
       "...                                                    ...     ...        ...   \n",
       "9187297                                         Drømmeland       0       2019   \n",
       "9187308  Illenau - die Geschichte einer ehemaligen Heil...       0       2017   \n",
       "9187519        Rodolpho Teóphilo - O Legado de um Pioneiro       0       2015   \n",
       "9187546  De la ilusión al desconcierto: cine colombiano...       0       2007   \n",
       "9187579                     Chico Albuquerque - Revelações       0       2013   \n",
       "\n",
       "        endYear runtimeMinutes       genres  \n",
       "13079       NaN            133  Documentary  \n",
       "66305       NaN             47  Documentary  \n",
       "95114       NaN             58  Documentary  \n",
       "102619      NaN            100  Documentary  \n",
       "106678      NaN             95  Documentary  \n",
       "...         ...            ...          ...  \n",
       "9187297     NaN             72  Documentary  \n",
       "9187308     NaN             84  Documentary  \n",
       "9187519     NaN             57  Documentary  \n",
       "9187546     NaN            100  Documentary  \n",
       "9187579     NaN             49  Documentary  \n",
       "\n",
       "[70676 rows x 9 columns]"
      ]
     },
     "execution_count": 17,
     "metadata": {},
     "output_type": "execute_result"
    }
   ],
   "source": [
    "# Review genres column for 'documentary'\n",
    "basics_df.loc[basics_df['genres'].str.contains('Documentary', case=False)]"
   ]
  },
  {
   "cell_type": "code",
   "execution_count": 18,
   "id": "f3d43d37",
   "metadata": {},
   "outputs": [],
   "source": [
    "# Eliminate movies that include \"Documentary\" in genre\n",
    "basics_df = basics_df.loc[~basics_df['genres'].str.contains('Documentary', case=False)]"
   ]
  },
  {
   "cell_type": "code",
   "execution_count": 19,
   "id": "3389635c",
   "metadata": {},
   "outputs": [
    {
     "data": {
      "text/html": [
       "<div>\n",
       "<style scoped>\n",
       "    .dataframe tbody tr th:only-of-type {\n",
       "        vertical-align: middle;\n",
       "    }\n",
       "\n",
       "    .dataframe tbody tr th {\n",
       "        vertical-align: top;\n",
       "    }\n",
       "\n",
       "    .dataframe thead th {\n",
       "        text-align: right;\n",
       "    }\n",
       "</style>\n",
       "<table border=\"1\" class=\"dataframe\">\n",
       "  <thead>\n",
       "    <tr style=\"text-align: right;\">\n",
       "      <th></th>\n",
       "      <th>tconst</th>\n",
       "      <th>titleType</th>\n",
       "      <th>primaryTitle</th>\n",
       "      <th>originalTitle</th>\n",
       "      <th>isAdult</th>\n",
       "      <th>startYear</th>\n",
       "      <th>endYear</th>\n",
       "      <th>runtimeMinutes</th>\n",
       "      <th>genres</th>\n",
       "    </tr>\n",
       "  </thead>\n",
       "  <tbody>\n",
       "  </tbody>\n",
       "</table>\n",
       "</div>"
      ],
      "text/plain": [
       "Empty DataFrame\n",
       "Columns: [tconst, titleType, primaryTitle, originalTitle, isAdult, startYear, endYear, runtimeMinutes, genres]\n",
       "Index: []"
      ]
     },
     "execution_count": 19,
     "metadata": {},
     "output_type": "execute_result"
    }
   ],
   "source": [
    "# Review genres column for 'documentary'\n",
    "basics_df.loc[basics_df['genres'].str.contains('Documentary', case=False)]"
   ]
  },
  {
   "cell_type": "markdown",
   "id": "58e9695c",
   "metadata": {},
   "source": [
    "# Filter and Cleaning akas_df"
   ]
  },
  {
   "cell_type": "markdown",
   "id": "d94c8965",
   "metadata": {},
   "source": [
    "- [x] Replace \"\\N\" with np.nan\n",
    "- [x] Keep only US entries"
   ]
  },
  {
   "cell_type": "code",
   "execution_count": 20,
   "id": "d0550afc",
   "metadata": {},
   "outputs": [],
   "source": [
    "# Replacing '\\N' with np.nan\n",
    "akas_df = akas_df.replace({'\\\\N':np.nan})"
   ]
  },
  {
   "cell_type": "code",
   "execution_count": 21,
   "id": "51deecde",
   "metadata": {},
   "outputs": [
    {
     "data": {
      "text/plain": [
       "FR    3943876\n",
       "JP    3943733\n",
       "DE    3926949\n",
       "IN    3872196\n",
       "ES    3866955\n",
       "       ...   \n",
       "TV          1\n",
       "NU          1\n",
       "PW          1\n",
       "NR          1\n",
       "TC          1\n",
       "Name: region, Length: 247, dtype: int64"
      ]
     },
     "execution_count": 21,
     "metadata": {},
     "output_type": "execute_result"
    }
   ],
   "source": [
    "# Exploring akas_df['region']\n",
    "akas_df['region'].value_counts()"
   ]
  },
  {
   "cell_type": "code",
   "execution_count": 22,
   "id": "20c41b05",
   "metadata": {},
   "outputs": [],
   "source": [
    "# Dropping all titles that are not US entries\n",
    "akas_df = akas_df[akas_df['region'] == 'US']"
   ]
  },
  {
   "cell_type": "code",
   "execution_count": 23,
   "id": "410d5c8d",
   "metadata": {},
   "outputs": [
    {
     "data": {
      "text/plain": [
       "US    1345024\n",
       "Name: region, dtype: int64"
      ]
     },
     "execution_count": 23,
     "metadata": {},
     "output_type": "execute_result"
    }
   ],
   "source": [
    "# Reviewing akas_df['region']\n",
    "akas_df['region'].value_counts()"
   ]
  },
  {
   "cell_type": "markdown",
   "id": "732a624f",
   "metadata": {},
   "source": [
    "# Filter and Cleaning ratings_df"
   ]
  },
  {
   "cell_type": "markdown",
   "id": "4c452adc",
   "metadata": {},
   "source": [
    "- [x] Replace '\\N' with np.nan"
   ]
  },
  {
   "cell_type": "code",
   "execution_count": 24,
   "id": "58795573",
   "metadata": {},
   "outputs": [],
   "source": [
    "# Replacing '\\N' with np.nan\n",
    "ratings_df = ratings_df.replace({'\\\\N':np.nan})"
   ]
  },
  {
   "cell_type": "markdown",
   "id": "cb343073",
   "metadata": {},
   "source": [
    "# Filtering one dataframe based on another"
   ]
  },
  {
   "cell_type": "code",
   "execution_count": 25,
   "id": "0eabd904",
   "metadata": {},
   "outputs": [
    {
     "data": {
      "text/plain": [
       "34790       True\n",
       "61090       True\n",
       "67636       True\n",
       "77930      False\n",
       "86767       True\n",
       "           ...  \n",
       "9187301     True\n",
       "9187310     True\n",
       "9187349    False\n",
       "9187394     True\n",
       "9187478    False\n",
       "Name: tconst, Length: 136778, dtype: bool"
      ]
     },
     "execution_count": 25,
     "metadata": {},
     "output_type": "execute_result"
    }
   ],
   "source": [
    "# Filter the basics table down to only include the US by using the filter akas dataframe\n",
    "keepers_df = basics_df['tconst'].isin(akas_df['titleId'])\n",
    "keepers_df"
   ]
  },
  {
   "cell_type": "code",
   "execution_count": 26,
   "id": "c782209f",
   "metadata": {},
   "outputs": [
    {
     "data": {
      "text/html": [
       "<div>\n",
       "<style scoped>\n",
       "    .dataframe tbody tr th:only-of-type {\n",
       "        vertical-align: middle;\n",
       "    }\n",
       "\n",
       "    .dataframe tbody tr th {\n",
       "        vertical-align: top;\n",
       "    }\n",
       "\n",
       "    .dataframe thead th {\n",
       "        text-align: right;\n",
       "    }\n",
       "</style>\n",
       "<table border=\"1\" class=\"dataframe\">\n",
       "  <thead>\n",
       "    <tr style=\"text-align: right;\">\n",
       "      <th></th>\n",
       "      <th>tconst</th>\n",
       "      <th>titleType</th>\n",
       "      <th>primaryTitle</th>\n",
       "      <th>originalTitle</th>\n",
       "      <th>isAdult</th>\n",
       "      <th>startYear</th>\n",
       "      <th>endYear</th>\n",
       "      <th>runtimeMinutes</th>\n",
       "      <th>genres</th>\n",
       "    </tr>\n",
       "  </thead>\n",
       "  <tbody>\n",
       "    <tr>\n",
       "      <th>34790</th>\n",
       "      <td>tt0035423</td>\n",
       "      <td>movie</td>\n",
       "      <td>Kate &amp; Leopold</td>\n",
       "      <td>Kate &amp; Leopold</td>\n",
       "      <td>0</td>\n",
       "      <td>2001</td>\n",
       "      <td>NaN</td>\n",
       "      <td>118</td>\n",
       "      <td>Comedy,Fantasy,Romance</td>\n",
       "    </tr>\n",
       "    <tr>\n",
       "      <th>61090</th>\n",
       "      <td>tt0062336</td>\n",
       "      <td>movie</td>\n",
       "      <td>The Tango of the Widower and Its Distorting Mi...</td>\n",
       "      <td>El Tango del Viudo y Su Espejo Deformante</td>\n",
       "      <td>0</td>\n",
       "      <td>2020</td>\n",
       "      <td>NaN</td>\n",
       "      <td>70</td>\n",
       "      <td>Drama</td>\n",
       "    </tr>\n",
       "    <tr>\n",
       "      <th>67636</th>\n",
       "      <td>tt0069049</td>\n",
       "      <td>movie</td>\n",
       "      <td>The Other Side of the Wind</td>\n",
       "      <td>The Other Side of the Wind</td>\n",
       "      <td>0</td>\n",
       "      <td>2018</td>\n",
       "      <td>NaN</td>\n",
       "      <td>122</td>\n",
       "      <td>Drama</td>\n",
       "    </tr>\n",
       "    <tr>\n",
       "      <th>86767</th>\n",
       "      <td>tt0088751</td>\n",
       "      <td>movie</td>\n",
       "      <td>The Naked Monster</td>\n",
       "      <td>The Naked Monster</td>\n",
       "      <td>0</td>\n",
       "      <td>2005</td>\n",
       "      <td>NaN</td>\n",
       "      <td>100</td>\n",
       "      <td>Comedy,Horror,Sci-Fi</td>\n",
       "    </tr>\n",
       "    <tr>\n",
       "      <th>92732</th>\n",
       "      <td>tt0094859</td>\n",
       "      <td>movie</td>\n",
       "      <td>Chief Zabu</td>\n",
       "      <td>Chief Zabu</td>\n",
       "      <td>0</td>\n",
       "      <td>2016</td>\n",
       "      <td>NaN</td>\n",
       "      <td>74</td>\n",
       "      <td>Comedy</td>\n",
       "    </tr>\n",
       "    <tr>\n",
       "      <th>...</th>\n",
       "      <td>...</td>\n",
       "      <td>...</td>\n",
       "      <td>...</td>\n",
       "      <td>...</td>\n",
       "      <td>...</td>\n",
       "      <td>...</td>\n",
       "      <td>...</td>\n",
       "      <td>...</td>\n",
       "      <td>...</td>\n",
       "    </tr>\n",
       "    <tr>\n",
       "      <th>9186765</th>\n",
       "      <td>tt9914942</td>\n",
       "      <td>movie</td>\n",
       "      <td>Life Without Sara Amat</td>\n",
       "      <td>La vida sense la Sara Amat</td>\n",
       "      <td>0</td>\n",
       "      <td>2019</td>\n",
       "      <td>NaN</td>\n",
       "      <td>74</td>\n",
       "      <td>Drama</td>\n",
       "    </tr>\n",
       "    <tr>\n",
       "      <th>9187161</th>\n",
       "      <td>tt9915872</td>\n",
       "      <td>movie</td>\n",
       "      <td>The Last White Witch</td>\n",
       "      <td>My Girlfriend is a Wizard</td>\n",
       "      <td>0</td>\n",
       "      <td>2019</td>\n",
       "      <td>NaN</td>\n",
       "      <td>97</td>\n",
       "      <td>Comedy,Drama,Fantasy</td>\n",
       "    </tr>\n",
       "    <tr>\n",
       "      <th>9187301</th>\n",
       "      <td>tt9916170</td>\n",
       "      <td>movie</td>\n",
       "      <td>The Rehearsal</td>\n",
       "      <td>O Ensaio</td>\n",
       "      <td>0</td>\n",
       "      <td>2019</td>\n",
       "      <td>NaN</td>\n",
       "      <td>51</td>\n",
       "      <td>Drama</td>\n",
       "    </tr>\n",
       "    <tr>\n",
       "      <th>9187310</th>\n",
       "      <td>tt9916190</td>\n",
       "      <td>movie</td>\n",
       "      <td>Safeguard</td>\n",
       "      <td>Safeguard</td>\n",
       "      <td>0</td>\n",
       "      <td>2020</td>\n",
       "      <td>NaN</td>\n",
       "      <td>95</td>\n",
       "      <td>Action,Adventure,Thriller</td>\n",
       "    </tr>\n",
       "    <tr>\n",
       "      <th>9187394</th>\n",
       "      <td>tt9916362</td>\n",
       "      <td>movie</td>\n",
       "      <td>Coven</td>\n",
       "      <td>Akelarre</td>\n",
       "      <td>0</td>\n",
       "      <td>2020</td>\n",
       "      <td>NaN</td>\n",
       "      <td>92</td>\n",
       "      <td>Drama,History</td>\n",
       "    </tr>\n",
       "  </tbody>\n",
       "</table>\n",
       "<p>79645 rows × 9 columns</p>\n",
       "</div>"
      ],
      "text/plain": [
       "            tconst titleType  \\\n",
       "34790    tt0035423     movie   \n",
       "61090    tt0062336     movie   \n",
       "67636    tt0069049     movie   \n",
       "86767    tt0088751     movie   \n",
       "92732    tt0094859     movie   \n",
       "...            ...       ...   \n",
       "9186765  tt9914942     movie   \n",
       "9187161  tt9915872     movie   \n",
       "9187301  tt9916170     movie   \n",
       "9187310  tt9916190     movie   \n",
       "9187394  tt9916362     movie   \n",
       "\n",
       "                                              primaryTitle  \\\n",
       "34790                                       Kate & Leopold   \n",
       "61090    The Tango of the Widower and Its Distorting Mi...   \n",
       "67636                           The Other Side of the Wind   \n",
       "86767                                    The Naked Monster   \n",
       "92732                                           Chief Zabu   \n",
       "...                                                    ...   \n",
       "9186765                             Life Without Sara Amat   \n",
       "9187161                               The Last White Witch   \n",
       "9187301                                      The Rehearsal   \n",
       "9187310                                          Safeguard   \n",
       "9187394                                              Coven   \n",
       "\n",
       "                                     originalTitle isAdult  startYear endYear  \\\n",
       "34790                               Kate & Leopold       0       2001     NaN   \n",
       "61090    El Tango del Viudo y Su Espejo Deformante       0       2020     NaN   \n",
       "67636                   The Other Side of the Wind       0       2018     NaN   \n",
       "86767                            The Naked Monster       0       2005     NaN   \n",
       "92732                                   Chief Zabu       0       2016     NaN   \n",
       "...                                            ...     ...        ...     ...   \n",
       "9186765                 La vida sense la Sara Amat       0       2019     NaN   \n",
       "9187161                  My Girlfriend is a Wizard       0       2019     NaN   \n",
       "9187301                                   O Ensaio       0       2019     NaN   \n",
       "9187310                                  Safeguard       0       2020     NaN   \n",
       "9187394                                   Akelarre       0       2020     NaN   \n",
       "\n",
       "        runtimeMinutes                     genres  \n",
       "34790              118     Comedy,Fantasy,Romance  \n",
       "61090               70                      Drama  \n",
       "67636              122                      Drama  \n",
       "86767              100       Comedy,Horror,Sci-Fi  \n",
       "92732               74                     Comedy  \n",
       "...                ...                        ...  \n",
       "9186765             74                      Drama  \n",
       "9187161             97       Comedy,Drama,Fantasy  \n",
       "9187301             51                      Drama  \n",
       "9187310             95  Action,Adventure,Thriller  \n",
       "9187394             92              Drama,History  \n",
       "\n",
       "[79645 rows x 9 columns]"
      ]
     },
     "execution_count": 26,
     "metadata": {},
     "output_type": "execute_result"
    }
   ],
   "source": [
    "# Filter basics\n",
    "basics = basics_df[keepers_df]\n",
    "basics"
   ]
  },
  {
   "cell_type": "markdown",
   "id": "cb6d14ad",
   "metadata": {},
   "source": [
    "# Saving the Files in Your Repository"
   ]
  },
  {
   "cell_type": "code",
   "execution_count": 27,
   "id": "63559fdb",
   "metadata": {},
   "outputs": [],
   "source": [
    "## Save current dataframe to file.\n",
    "basics.to_csv(\"Data/title_basics.csv.gz\",compression='gzip',index=False)\n",
    "\n",
    "## Save current dataframe to file.\n",
    "akas_df.to_csv(\"Data/titles_akas.csv.gz\",compression='gzip',index=False)\n",
    "\n",
    "## Save current dataframe to file.\n",
    "ratings_df.to_csv(\"Data/title_ratings.csv.gz\",compression='gzip',index=False)"
   ]
  },
  {
   "cell_type": "code",
   "execution_count": 28,
   "id": "061d36d2",
   "metadata": {},
   "outputs": [
    {
     "data": {
      "text/html": [
       "<div>\n",
       "<style scoped>\n",
       "    .dataframe tbody tr th:only-of-type {\n",
       "        vertical-align: middle;\n",
       "    }\n",
       "\n",
       "    .dataframe tbody tr th {\n",
       "        vertical-align: top;\n",
       "    }\n",
       "\n",
       "    .dataframe thead th {\n",
       "        text-align: right;\n",
       "    }\n",
       "</style>\n",
       "<table border=\"1\" class=\"dataframe\">\n",
       "  <thead>\n",
       "    <tr style=\"text-align: right;\">\n",
       "      <th></th>\n",
       "      <th>tconst</th>\n",
       "      <th>titleType</th>\n",
       "      <th>primaryTitle</th>\n",
       "      <th>originalTitle</th>\n",
       "      <th>isAdult</th>\n",
       "      <th>startYear</th>\n",
       "      <th>endYear</th>\n",
       "      <th>runtimeMinutes</th>\n",
       "      <th>genres</th>\n",
       "    </tr>\n",
       "  </thead>\n",
       "  <tbody>\n",
       "    <tr>\n",
       "      <th>0</th>\n",
       "      <td>tt0035423</td>\n",
       "      <td>movie</td>\n",
       "      <td>Kate &amp; Leopold</td>\n",
       "      <td>Kate &amp; Leopold</td>\n",
       "      <td>0</td>\n",
       "      <td>2001</td>\n",
       "      <td>NaN</td>\n",
       "      <td>118</td>\n",
       "      <td>Comedy,Fantasy,Romance</td>\n",
       "    </tr>\n",
       "    <tr>\n",
       "      <th>1</th>\n",
       "      <td>tt0062336</td>\n",
       "      <td>movie</td>\n",
       "      <td>The Tango of the Widower and Its Distorting Mi...</td>\n",
       "      <td>El Tango del Viudo y Su Espejo Deformante</td>\n",
       "      <td>0</td>\n",
       "      <td>2020</td>\n",
       "      <td>NaN</td>\n",
       "      <td>70</td>\n",
       "      <td>Drama</td>\n",
       "    </tr>\n",
       "    <tr>\n",
       "      <th>2</th>\n",
       "      <td>tt0069049</td>\n",
       "      <td>movie</td>\n",
       "      <td>The Other Side of the Wind</td>\n",
       "      <td>The Other Side of the Wind</td>\n",
       "      <td>0</td>\n",
       "      <td>2018</td>\n",
       "      <td>NaN</td>\n",
       "      <td>122</td>\n",
       "      <td>Drama</td>\n",
       "    </tr>\n",
       "    <tr>\n",
       "      <th>3</th>\n",
       "      <td>tt0088751</td>\n",
       "      <td>movie</td>\n",
       "      <td>The Naked Monster</td>\n",
       "      <td>The Naked Monster</td>\n",
       "      <td>0</td>\n",
       "      <td>2005</td>\n",
       "      <td>NaN</td>\n",
       "      <td>100</td>\n",
       "      <td>Comedy,Horror,Sci-Fi</td>\n",
       "    </tr>\n",
       "    <tr>\n",
       "      <th>4</th>\n",
       "      <td>tt0094859</td>\n",
       "      <td>movie</td>\n",
       "      <td>Chief Zabu</td>\n",
       "      <td>Chief Zabu</td>\n",
       "      <td>0</td>\n",
       "      <td>2016</td>\n",
       "      <td>NaN</td>\n",
       "      <td>74</td>\n",
       "      <td>Comedy</td>\n",
       "    </tr>\n",
       "  </tbody>\n",
       "</table>\n",
       "</div>"
      ],
      "text/plain": [
       "      tconst titleType                                       primaryTitle  \\\n",
       "0  tt0035423     movie                                     Kate & Leopold   \n",
       "1  tt0062336     movie  The Tango of the Widower and Its Distorting Mi...   \n",
       "2  tt0069049     movie                         The Other Side of the Wind   \n",
       "3  tt0088751     movie                                  The Naked Monster   \n",
       "4  tt0094859     movie                                         Chief Zabu   \n",
       "\n",
       "                               originalTitle  isAdult  startYear  endYear  \\\n",
       "0                             Kate & Leopold        0       2001      NaN   \n",
       "1  El Tango del Viudo y Su Espejo Deformante        0       2020      NaN   \n",
       "2                 The Other Side of the Wind        0       2018      NaN   \n",
       "3                          The Naked Monster        0       2005      NaN   \n",
       "4                                 Chief Zabu        0       2016      NaN   \n",
       "\n",
       "   runtimeMinutes                  genres  \n",
       "0             118  Comedy,Fantasy,Romance  \n",
       "1              70                   Drama  \n",
       "2             122                   Drama  \n",
       "3             100    Comedy,Horror,Sci-Fi  \n",
       "4              74                  Comedy  "
      ]
     },
     "execution_count": 28,
     "metadata": {},
     "output_type": "execute_result"
    }
   ],
   "source": [
    "# Open saved file and preview again\n",
    "basics = pd.read_csv(\"Data/title_basics.csv.gz\", low_memory = False)\n",
    "basics.head()"
   ]
  },
  {
   "cell_type": "markdown",
   "id": "a8baa4e3",
   "metadata": {},
   "source": [
    "# Final .info() check"
   ]
  },
  {
   "cell_type": "code",
   "execution_count": 29,
   "id": "e01ce75b",
   "metadata": {},
   "outputs": [
    {
     "name": "stdout",
     "output_type": "stream",
     "text": [
      "<class 'pandas.core.frame.DataFrame'>\n",
      "RangeIndex: 79645 entries, 0 to 79644\n",
      "Data columns (total 9 columns):\n",
      " #   Column          Non-Null Count  Dtype  \n",
      "---  ------          --------------  -----  \n",
      " 0   tconst          79645 non-null  object \n",
      " 1   titleType       79645 non-null  object \n",
      " 2   primaryTitle    79645 non-null  object \n",
      " 3   originalTitle   79645 non-null  object \n",
      " 4   isAdult         79645 non-null  int64  \n",
      " 5   startYear       79645 non-null  int64  \n",
      " 6   endYear         0 non-null      float64\n",
      " 7   runtimeMinutes  79645 non-null  int64  \n",
      " 8   genres          79645 non-null  object \n",
      "dtypes: float64(1), int64(3), object(5)\n",
      "memory usage: 5.5+ MB\n"
     ]
    }
   ],
   "source": [
    "basics.info()"
   ]
  }
 ],
 "metadata": {
  "kernelspec": {
   "display_name": "Python (dojo-env)",
   "language": "python",
   "name": "dojo-env"
  },
  "language_info": {
   "codemirror_mode": {
    "name": "ipython",
    "version": 3
   },
   "file_extension": ".py",
   "mimetype": "text/x-python",
   "name": "python",
   "nbconvert_exporter": "python",
   "pygments_lexer": "ipython3",
   "version": "3.8.13"
  },
  "toc": {
   "base_numbering": 1,
   "nav_menu": {},
   "number_sections": false,
   "sideBar": true,
   "skip_h1_title": false,
   "title_cell": "Table of Contents",
   "title_sidebar": "Contents",
   "toc_cell": false,
   "toc_position": {
    "height": "calc(100% - 180px)",
    "left": "10px",
    "top": "150px",
    "width": "207.594px"
   },
   "toc_section_display": true,
   "toc_window_display": true
  }
 },
 "nbformat": 4,
 "nbformat_minor": 5
}
